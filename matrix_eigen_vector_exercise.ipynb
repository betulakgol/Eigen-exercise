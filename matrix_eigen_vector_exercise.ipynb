{
 "cells": [
  {
   "cell_type": "code",
   "execution_count": 1,
   "metadata": {},
   "outputs": [],
   "source": [
    "import numpy as np\n",
    "import matplotlib.pyplot as plt\n",
    "%matplotlib inline"
   ]
  },
  {
   "cell_type": "code",
   "execution_count": 101,
   "metadata": {},
   "outputs": [],
   "source": [
    "\n",
    "def stochastic_sd(arr, n=10000, seed=0):\n",
    "    '''Estimate the standard deviation of an array by considering only the \n",
    "    subset of its elements.\n",
    "    \n",
    "    Parameters\n",
    "    ----------\n",
    "    n : int\n",
    "        The number of elements to consider. If the array contains fewer elements,\n",
    "        use all.\n",
    "    seed : int\n",
    "        The seed for the random number generator.\n",
    "    '''\n",
    "    arr = np.asarray(arr)\n",
    "    if arr.size < n: \n",
    "        return np.sqrt(arr.var())\n",
    "    else:\n",
    "        return np.sqrt(\n",
    "            np.random.RandomState(seed).choice(arr.flat, n, replace=True).var())\n",
    "\n",
    "    \n",
    "\n",
    "def is_symmetric(mat):\n",
    "    \"\"\"\n",
    "    Check if a matrix is symmetric.\n",
    "    \"\"\"\n",
    "\n",
    "    maxDiff = np.abs(mat - mat.T).max()\n",
    "    return maxDiff < stochastic_sd(mat) * 1e-7 + 1e-5\n"
   ]
  },
  {
   "cell_type": "code",
   "execution_count": 103,
   "metadata": {},
   "outputs": [],
   "source": [
    "np.random.random?"
   ]
  },
  {
   "cell_type": "code",
   "execution_count": 102,
   "metadata": {},
   "outputs": [
    {
     "name": "stdout",
     "output_type": "stream",
     "text": [
      "False\n",
      "True\n"
     ]
    }
   ],
   "source": [
    "m=10\n",
    "# with non-symmetric noise ...\n",
    "M_test=np.zeros((m,m),dtype=np.float)+0.1*np.random.random((m,m))\n",
    "\n",
    "\n",
    "my_noise = np.random.random((m,m))\n",
    "\n",
    "# just checking my understanding of symmetric noise ....\n",
    "print(is_symmetric(my_noise))\n",
    "print(is_symmetric(my_noise+my_noise.T))\n",
    "\n",
    "# sym noise with distro [0,2)\n",
    "sym_noise = my_noise+my_noise.T\n",
    "# sym noise with distro [0,1)\n",
    "sym_noise *= 0.5\n",
    "\n",
    "# with symmetric noise ...\n",
    "M_test=np.zeros((m,m),dtype=np.float)+0.1*sym_noise\n",
    "\n",
    "\n",
    "\n",
    "M_test[:5,5:]+=2\n",
    "M_test[5:,:5]+=2\n",
    "M_test-=1\n",
    "\n",
    "#print(M_test)\n",
    "#plt.imshow(M_test)\n",
    "evals,evecs=np.linalg.eig(M_test)\n",
    "\n",
    "# try using other eigendecomposition methods\n",
    "# 1. scipy.sparse.linalg.eigsh for symetric matrices - should not have anyhting imaginary \n",
    "# 2. scipy.sparse.linalg.eigs for not neccessarily symmetric matrices , i.e. more general - expected small imaginry numbers\n",
    "# 3. cooltools.numutils.get_eig\n",
    "\n",
    "# beware of eigenvectors being rows vs columns - that changes from function to function ...\n",
    "# enforce symmetry when needed - numerical algorithms that are not written for symmetrical mat-s might introduce small imaginary noise for matrices that actually symmetrical....\n",
    "\n",
    "# later we'll try to see if SingularValue Decomposition would work for us or not - that's for non-square matrices ...."
   ]
  },
  {
   "cell_type": "code",
   "execution_count": 91,
   "metadata": {},
   "outputs": [
    {
     "data": {
      "text/plain": [
       "<matplotlib.image.AxesImage at 0x11f08df28>"
      ]
     },
     "execution_count": 91,
     "metadata": {},
     "output_type": "execute_result"
    },
    {
     "data": {
      "image/png": "[encoded data removed]",
      "text/plain": [
       "<Figure size 432x288 with 1 Axes>"
      ]
     },
     "metadata": {
      "needs_background": "light"
     },
     "output_type": "display_data"
    }
   ],
   "source": [
    "plt.imshow(M_test)"
   ]
  },
  {
   "cell_type": "code",
   "execution_count": null,
   "metadata": {},
   "outputs": [],
   "source": []
  },
  {
   "cell_type": "code",
   "execution_count": 100,
   "metadata": {},
   "outputs": [
    {
     "data": {
      "text/plain": [
       "<matplotlib.image.AxesImage at 0x11f26b2e8>"
      ]
     },
     "execution_count": 100,
     "metadata": {},
     "output_type": "execute_result"
    },
    {
     "data": {
      "image/png": "[encoded data removed]",
      "text/plain": [
       "<Figure size 432x288 with 1 Axes>"
      ]
     },
     "metadata": {
      "needs_background": "light"
     },
     "output_type": "display_data"
    }
   ],
   "source": [
    "mask = np.asarray([1,1,1,1,1,1,1,0,0,1],dtype=np.bool)\n",
    "M_test[mask,:][:,mask].shape\n",
    "plt.imshow(M_test[mask,:][:,mask])"
   ]
  },
  {
   "cell_type": "code",
   "execution_count": 92,
   "metadata": {},
   "outputs": [
    {
     "data": {
      "text/plain": [
       "<BarContainer object of 10 artists>"
      ]
     },
     "execution_count": 92,
     "metadata": {},
     "output_type": "execute_result"
    },
    {
     "data": {
      "image/png": "[encoded data removed]",
      "text/plain": [
       "<Figure size 432x288 with 1 Axes>"
      ]
     },
     "metadata": {
      "needs_background": "light"
     },
     "output_type": "display_data"
    }
   ],
   "source": [
    "# plt.bar(range(m),np.abs(evals))\n",
    "plt.bar(range(m),evals)"
   ]
  },
  {
   "cell_type": "code",
   "execution_count": 93,
   "metadata": {},
   "outputs": [
    {
     "data": {
      "text/plain": [
       "array([[ 3.14633732e-01+0.j        , -2.15330660e-01+0.j        ,\n",
       "         1.31782408e-01+0.10432481j,  1.31782408e-01-0.10432481j,\n",
       "         3.04507005e-01-0.28168951j,  3.04507005e-01+0.28168951j,\n",
       "         5.40287422e-01+0.j        ,  5.40287422e-01-0.j        ,\n",
       "         1.23639931e-02+0.j        ,  3.90210981e-01+0.j        ],\n",
       "       [ 3.16702265e-01+0.j        , -2.47883490e-01+0.j        ,\n",
       "        -3.38794288e-01-0.0171237j , -3.38794288e-01+0.0171237j ,\n",
       "        -1.60403566e-01-0.08677698j, -1.60403566e-01+0.08677698j,\n",
       "        -1.95865352e-01-0.11009308j, -1.95865352e-01+0.11009308j,\n",
       "         5.84485196e-01+0.j        , -3.48727157e-01+0.j        ],\n",
       "       [ 3.19150401e-01+0.j        , -2.62346538e-01+0.j        ,\n",
       "        -1.82202436e-01-0.11884242j, -1.82202436e-01+0.11884242j,\n",
       "        -1.53777348e-01-0.10585477j, -1.53777348e-01+0.10585477j,\n",
       "        -2.66120664e-01+0.41151536j, -2.66120664e-01-0.41151536j,\n",
       "        -2.12216627e-01+0.j        , -7.08419089e-02+0.j        ],\n",
       "       [ 3.13603106e-01+0.j        , -3.79373064e-01+0.j        ,\n",
       "        -1.60825745e-01-0.05561106j, -1.60825745e-01+0.05561106j,\n",
       "        -3.04322501e-02+0.32103275j, -3.04322501e-02-0.32103275j,\n",
       "        -2.03137384e-01-0.310548j  , -2.03137384e-01+0.310548j  ,\n",
       "        -4.81331032e-01+0.j        , -2.35558716e-01+0.j        ],\n",
       "       [ 3.13751965e-01+0.j        , -4.37166922e-01+0.j        ,\n",
       "         4.80454572e-01+0.j        ,  4.80454572e-01-0.j        ,\n",
       "        -2.32611874e-02+0.12464988j, -2.32611874e-02-0.12464988j,\n",
       "         3.37727925e-02+0.00486215j,  3.37727925e-02-0.00486215j,\n",
       "         1.19537187e-01+0.j        ,  1.68862696e-01+0.j        ],\n",
       "       [-3.16836213e-01+0.j        , -2.22701207e-01+0.j        ,\n",
       "         1.25473813e-01-0.21148419j,  1.25473813e-01+0.21148419j,\n",
       "        -2.98187010e-01+0.23945312j, -2.98187010e-01-0.23945312j,\n",
       "         2.08641335e-01-0.05097406j,  2.08641335e-01+0.05097406j,\n",
       "         1.13488217e-01+0.j        , -5.57180011e-04+0.j        ],\n",
       "       [-3.16726561e-01+0.j        , -3.45368489e-01+0.j        ,\n",
       "        -6.78606444e-02+0.42955774j, -6.78606444e-02-0.42955774j,\n",
       "        -5.34855195e-02+0.25089059j, -5.34855195e-02-0.25089059j,\n",
       "         1.20576671e-01+0.33308745j,  1.20576671e-01-0.33308745j,\n",
       "         1.50082585e-01+0.j        ,  5.11281670e-01+0.j        ],\n",
       "       [-3.13643543e-01+0.j        , -3.03468636e-01+0.j        ,\n",
       "         5.86372390e-02-0.37496105j,  5.86372390e-02+0.37496105j,\n",
       "         4.87529405e-01+0.j        ,  4.87529405e-01-0.j        ,\n",
       "        -5.90371742e-02-0.12275166j, -5.90371742e-02+0.12275166j,\n",
       "         2.14757625e-01+0.j        , -2.37570344e-01+0.j        ],\n",
       "       [-3.20096858e-01+0.j        , -3.96061784e-01+0.j        ,\n",
       "        -4.78959716e-02+0.29522021j, -4.78959716e-02-0.29522021j,\n",
       "        -7.28485787e-02-0.12706211j, -7.28485787e-02+0.12706211j,\n",
       "        -1.18778352e-01-0.10872093j, -1.18778352e-01+0.10872093j,\n",
       "         8.36239704e-02+0.j        , -5.40171736e-01+0.j        ],\n",
       "       [-3.17058256e-01+0.j        , -2.65496829e-01+0.j        ,\n",
       "        -1.40463647e-01-0.21622275j, -1.40463647e-01+0.21622275j,\n",
       "        -1.31881471e-01-0.38879044j, -1.31881471e-01+0.38879044j,\n",
       "        -2.44966183e-01-0.04965598j, -2.44966183e-01+0.04965598j,\n",
       "        -5.27921799e-01+0.j        ,  1.65738458e-01+0.j        ]])"
      ]
     },
     "execution_count": 93,
     "metadata": {},
     "output_type": "execute_result"
    }
   ],
   "source": [
    "evecs"
   ]
  },
  {
   "cell_type": "code",
   "execution_count": 88,
   "metadata": {},
   "outputs": [
    {
     "data": {
      "text/plain": [
       "<matplotlib.image.AxesImage at 0x11ef45d68>"
      ]
     },
     "execution_count": 88,
     "metadata": {},
     "output_type": "execute_result"
    },
    {
     "data": {
      "image/png": "[encoded data removed]",
      "text/plain": [
       "<Figure size 432x288 with 1 Axes>"
      ]
     },
     "metadata": {
      "needs_background": "light"
     },
     "output_type": "display_data"
    }
   ],
   "source": [
    "plt.imshow(evecs.T)"
   ]
  },
  {
   "cell_type": "code",
   "execution_count": 82,
   "metadata": {},
   "outputs": [
    {
     "data": {
      "text/plain": [
       "<matplotlib.image.AxesImage at 0x11eec4518>"
      ]
     },
     "execution_count": 82,
     "metadata": {},
     "output_type": "execute_result"
    },
    {
     "data": {
      "image/png": "[encoded data removed]",
      "text/plain": [
       "<Figure size 432x288 with 1 Axes>"
      ]
     },
     "metadata": {
      "needs_background": "light"
     },
     "output_type": "display_data"
    }
   ],
   "source": [
    "i=1\n",
    "plt.imshow(np.outer(evecs[:,i],evecs[:,i]))"
   ]
  },
  {
   "cell_type": "code",
   "execution_count": 84,
   "metadata": {},
   "outputs": [
    {
     "data": {
      "text/plain": [
       "<matplotlib.image.AxesImage at 0x11e5a0fd0>"
      ]
     },
     "execution_count": 84,
     "metadata": {},
     "output_type": "execute_result"
    },
    {
     "data": {
      "image/png": "[encoded data removed]",
      "text/plain": [
       "<Figure size 432x288 with 1 Axes>"
      ]
     },
     "metadata": {
      "needs_background": "light"
     },
     "output_type": "display_data"
    }
   ],
   "source": [
    "plt.imshow(0*np.outer(evecs[:,0],evecs[:,0])-np.outer(evecs[:,1],evecs[:,1]))"
   ]
  },
  {
   "cell_type": "code",
   "execution_count": 85,
   "metadata": {},
   "outputs": [],
   "source": [
    "aaa = [evals[i]*np.outer(evecs[:,i],evecs[:,i]) for i in range(m)]"
   ]
  },
  {
   "cell_type": "code",
   "execution_count": 86,
   "metadata": {},
   "outputs": [
    {
     "data": {
      "text/plain": [
       "<matplotlib.image.AxesImage at 0x11e1b4320>"
      ]
     },
     "execution_count": 86,
     "metadata": {},
     "output_type": "execute_result"
    },
    {
     "data": {
      "image/png": "[encoded data removed]",
      "text/plain": [
       "<Figure size 432x288 with 1 Axes>"
      ]
     },
     "metadata": {
      "needs_background": "light"
     },
     "output_type": "display_data"
    }
   ],
   "source": [
    "plt.imshow(sum(aaa))"
   ]
  },
  {
   "cell_type": "code",
   "execution_count": null,
   "metadata": {},
   "outputs": [],
   "source": []
  },
  {
   "cell_type": "code",
   "execution_count": null,
   "metadata": {},
   "outputs": [],
   "source": []
  }
 ],
 "metadata": {
  "kernelspec": {
   "display_name": "Python 3",
   "language": "python",
   "name": "python3"
  },
  "language_info": {
   "codemirror_mode": {
    "name": "ipython",
    "version": 3
   },
   "file_extension": ".py",
   "mimetype": "text/x-python",
   "name": "python",
   "nbconvert_exporter": "python",
   "pygments_lexer": "ipython3",
   "version": "3.6.6"
  }
 },
 "nbformat": 4,
 "nbformat_minor": 2
}
