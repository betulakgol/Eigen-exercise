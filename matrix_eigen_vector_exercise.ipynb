{
 "cells": [
  {
   "cell_type": "code",
   "execution_count": 1,
   "metadata": {},
   "outputs": [],
   "source": [
    "import numpy as np\n",
    "import matplotlib.pyplot as plt\n",
    "#from scipy.linalg import toeplitz\n",
    "#import scipy.sparse.linalg\n",
    "%matplotlib inline"
   ]
  },
  {
   "cell_type": "code",
   "execution_count": 2,
   "metadata": {},
   "outputs": [],
   "source": [
    "\n",
    "def stochastic_sd(arr, n=10000, seed=0):\n",
    "    '''Estimate the standard deviation of an array by considering only the \n",
    "    subset of its elements.\n",
    "    \n",
    "    Parameters\n",
    "    ----------\n",
    "    n : int\n",
    "        The number of elements to consider. If the array contains fewer elements,\n",
    "        use all.\n",
    "    seed : int\n",
    "        The seed for the random number generator.\n",
    "    '''\n",
    "    arr = np.asarray(arr)\n",
    "    if arr.size < n: \n",
    "        return np.sqrt(arr.var())\n",
    "    else:\n",
    "        return np.sqrt(\n",
    "            np.random.RandomState(seed).choice(arr.flat, n, replace=True).var())\n",
    "\n",
    "    \n",
    "\n",
    "def is_symmetric(mat):\n",
    "    \"\"\"\n",
    "    Check if a matrix is symmetric.\n",
    "    \"\"\"\n",
    "\n",
    "    maxDiff = np.abs(mat - mat.T).max()\n",
    "    return maxDiff < stochastic_sd(mat) * 1e-7 + 1e-5\n"
   ]
  },
  {
   "cell_type": "code",
   "execution_count": 3,
   "metadata": {},
   "outputs": [],
   "source": [
    "#np.random.random?\n",
    "m=100\n",
    "M_test=np.zeros((m,m),dtype=np.float)+0.1*np.random.random((m,m))\n",
    "\n"
   ]
  },
  {
   "cell_type": "code",
   "execution_count": 217,
   "metadata": {},
   "outputs": [
    {
     "name": "stdout",
     "output_type": "stream",
     "text": [
      "False\n",
      "True\n"
     ]
    }
   ],
   "source": [
    "\n",
    "# with non-symmetric noise ...\n",
    "M_test=np.zeros((m,m),dtype=np.float)+0.1*np.random.random((m,m))\n",
    "\n",
    "my_noise = np.random.random((m,m))\n",
    "\n",
    "# print(my_noise)\n",
    "# just checking my understanding of symmetric noise ....\n",
    "print(is_symmetric(my_noise))\n",
    "print(is_symmetric(my_noise+my_noise.T))\n",
    "\n",
    "# sym noise with distro [0,2)\n",
    "sym_noise = my_noise+my_noise.T\n",
    "# print(sym_noise)\n",
    "# sym noise with distro [0,1)\n",
    "sym_noise *= 0.5\n",
    "\n",
    "# with symmetric noise ...\n",
    "M_test=np.zeros((m,m),dtype=np.float)#+0.1*sym_noise\n",
    "\n",
    "# print(M_test)\n",
    "\n",
    "M_test[:25,:]+=2\n",
    "M_test[50:75,:]+=2\n",
    "M_test[:,:25]+=2\n",
    "M_test[:,50:75]+=2\n",
    "\n",
    "\n",
    "M_test-=1\n",
    "# \n",
    "#print(M_test)\n",
    "#plt.imshow(M_test)\n",
    "evals1,evecs1=np.linalg.eig(M_test)\n",
    "\n",
    "M1=M_test\n",
    "\n",
    "# try using other eigendecomposition methods\n",
    "# 1. scipy.sparse.linalg.eigsh for symetric matrices - should not have anyhting imaginary \n",
    "# 2. scipy.sparse.linalg.eigs for not neccessarily symmetric matrices , i.e. more general - expected small imaginry numbers\n",
    "# 3. cooltools.numutils.get_eig\n",
    "\n",
    "# beware of eigenvectors being rows vs columns - that changes from function to function ...\n",
    "# enforce symmetry when needed - numerical algorithms that are not written for symmetrical mat-s might introduce small imaginary noise for matrices that actually symmetrical....\n",
    "\n",
    "# later we'll try to see if SingularValue Decomposition would work for us or not - that's for non-square matrices ...."
   ]
  },
  {
   "cell_type": "code",
   "execution_count": 218,
   "metadata": {
    "scrolled": true
   },
   "outputs": [
    {
     "data": {
      "image/png": "[encoded data removed]",
      "text/plain": [
       "<Figure size 432x288 with 1 Axes>"
      ]
     },
     "metadata": {
      "needs_background": "light"
     },
     "output_type": "display_data"
    }
   ],
   "source": [
    "plt.imshow(M_test)\n",
    "plt.show()"
   ]
  },
  {
   "cell_type": "code",
   "execution_count": 140,
   "metadata": {},
   "outputs": [
    {
     "data": {
      "image/png": "[encoded data removed]",
      "text/plain": [
       "<Figure size 432x288 with 1 Axes>"
      ]
     },
     "metadata": {
      "needs_background": "light"
     },
     "output_type": "display_data"
    }
   ],
   "source": [
    "plt.hist(evecs,density=True)\n",
    "plt.show()"
   ]
  },
  {
   "cell_type": "code",
   "execution_count": 170,
   "metadata": {},
   "outputs": [],
   "source": [
    "# with symmetric noise ...\n",
    "M_test=np.zeros((m,m))\n",
    "\n",
    "# print(M_test)\n",
    "\n",
    "M_test[:25,:25]+=2\n",
    "M_test[:25,50:75]+=2\n",
    "\n",
    "M_test[50:75,:25]+=2\n",
    "M_test[50:75,50:75]+=2\n",
    "\n",
    "M_test[75:100,75:100]+=2\n",
    "M_test[75:100,25:50]+=2\n",
    "\n",
    "M_test[25:50,25:50]+=2\n",
    "M_test[25:50,75:100]+=2\n",
    "\n",
    "M2=M_test\n",
    "#M_test[75:100,75:100]+=2\n",
    "\n",
    "\n",
    "#M_test-=1\n",
    "# \n",
    "#print(M_test)\n",
    "#plt.imshow(M_test)\n",
    "evals2,evecs2=np.linalg.eig(M2)"
   ]
  },
  {
   "cell_type": "code",
   "execution_count": 201,
   "metadata": {},
   "outputs": [],
   "source": [
    "M2 = M_test\n",
    "# M2 = (M2 - M2.mean())/M2.mean()\n"
   ]
  },
  {
   "cell_type": "code",
   "execution_count": 224,
   "metadata": {},
   "outputs": [],
   "source": [
    "M1\n",
    "M1xxx = (M1 - M1.mean())/M1.std()"
   ]
  },
  {
   "cell_type": "code",
   "execution_count": 225,
   "metadata": {
    "scrolled": true
   },
   "outputs": [],
   "source": [
    "#plt.imshow(np.cov(M2))\n",
    "evals2,evecs2=np.linalg.eigh(M1xxx)"
   ]
  },
  {
   "cell_type": "code",
   "execution_count": 226,
   "metadata": {},
   "outputs": [
    {
     "data": {
      "text/plain": [
       "[<matplotlib.lines.Line2D at 0x1253a99e8>]"
      ]
     },
     "execution_count": 226,
     "metadata": {},
     "output_type": "execute_result"
    },
    {
     "data": {
      "image/png": "[encoded data removed]",
      "text/plain": [
       "<Figure size 432x288 with 1 Axes>"
      ]
     },
     "metadata": {
      "needs_background": "light"
     },
     "output_type": "display_data"
    }
   ],
   "source": [
    "plt.plot(evals2,'ro')"
   ]
  },
  {
   "cell_type": "code",
   "execution_count": 228,
   "metadata": {},
   "outputs": [
    {
     "data": {
      "text/plain": [
       "(array([50.,  0.,  0.,  0.,  0.,  0.,  0.,  0.,  0., 50.]),\n",
       " array([-1.41421356e-01, -1.27279221e-01, -1.13137085e-01, -9.89949494e-02,\n",
       "        -8.48528137e-02, -7.07106781e-02, -5.65685425e-02, -4.24264069e-02,\n",
       "        -2.82842712e-02, -1.41421356e-02,  1.81897913e-17]),\n",
       " <a list of 10 Patch objects>)"
      ]
     },
     "execution_count": 228,
     "metadata": {},
     "output_type": "execute_result"
    },
    {
     "data": {
      "image/png": "[encoded data removed]",
      "text/plain": [
       "<Figure size 432x288 with 1 Axes>"
      ]
     },
     "metadata": {
      "needs_background": "light"
     },
     "output_type": "display_data"
    }
   ],
   "source": [
    "plt.hist(evecs2[:,0])"
   ]
  },
  {
   "cell_type": "code",
   "execution_count": 205,
   "metadata": {},
   "outputs": [
    {
     "data": {
      "text/plain": [
       "(array([50.,  0.,  0.,  0.,  0.,  0.,  0.,  0.,  0., 50.]),\n",
       " array([-0.14142136, -0.12727922, -0.11313708, -0.09899495, -0.08485281,\n",
       "        -0.07071068, -0.05656854, -0.04242641, -0.02828427, -0.01414214,\n",
       "         0.        ]),\n",
       " <a list of 10 Patch objects>)"
      ]
     },
     "execution_count": 205,
     "metadata": {},
     "output_type": "execute_result"
    },
    {
     "data": {
      "image/png": "[encoded data removed]",
      "text/plain": [
       "<Figure size 432x288 with 1 Axes>"
      ]
     },
     "metadata": {
      "needs_background": "light"
     },
     "output_type": "display_data"
    }
   ],
   "source": [
    "plt.hist(evecs2[:,98])"
   ]
  },
  {
   "cell_type": "code",
   "execution_count": 185,
   "metadata": {},
   "outputs": [],
   "source": [
    "np.linalg.eigh?"
   ]
  },
  {
   "cell_type": "code",
   "execution_count": 171,
   "metadata": {
    "scrolled": true
   },
   "outputs": [
    {
     "data": {
      "image/png": "[encoded data removed]",
      "text/plain": [
       "<Figure size 432x288 with 1 Axes>"
      ]
     },
     "metadata": {
      "needs_background": "light"
     },
     "output_type": "display_data"
    }
   ],
   "source": [
    "plt.imshow(M2)\n",
    "plt.show()"
   ]
  },
  {
   "cell_type": "code",
   "execution_count": 172,
   "metadata": {
    "scrolled": true
   },
   "outputs": [
    {
     "data": {
      "image/png": "[encoded data removed]",
      "text/plain": [
       "<Figure size 432x288 with 1 Axes>"
      ]
     },
     "metadata": {
      "needs_background": "light"
     },
     "output_type": "display_data"
    }
   ],
   "source": [
    "plt.hist(evecs,density=True)\n",
    "plt.show()"
   ]
  },
  {
   "cell_type": "code",
   "execution_count": 150,
   "metadata": {
    "scrolled": true
   },
   "outputs": [
    {
     "data": {
      "image/png": "[encoded data removed]",
      "text/plain": [
       "<Figure size 432x288 with 1 Axes>"
      ]
     },
     "metadata": {
      "needs_background": "light"
     },
     "output_type": "display_data"
    }
   ],
   "source": [
    "M1_cov=np.cov(M1)\n",
    "M2_cov=np.cov(M2)\n",
    "\n",
    "plt.imshow(M1_cov)\n",
    "plt.show()\n",
    "#plt.scatter(M1,M2)"
   ]
  },
  {
   "cell_type": "code",
   "execution_count": 149,
   "metadata": {},
   "outputs": [
    {
     "data": {
      "image/png": "[encoded data removed]",
      "text/plain": [
       "<Figure size 432x288 with 1 Axes>"
      ]
     },
     "metadata": {
      "needs_background": "light"
     },
     "output_type": "display_data"
    }
   ],
   "source": [
    "plt.scatter(evecs1[1],evecs1[2])\n",
    "plt.show()"
   ]
  },
  {
   "cell_type": "code",
   "execution_count": 160,
   "metadata": {},
   "outputs": [
    {
     "name": "stdout",
     "output_type": "stream",
     "text": [
      "[[90 90 60 60 30]\n",
      " [60 90 60 60 30]\n",
      " [90 30 60 90 30]]\n",
      "(3, 5)\n"
     ]
    }
   ],
   "source": [
    "#M=np.array([[90,60,90],[90,90,30],[60,60,60],[60,60,90],[30,30,30]])\n",
    "\n",
    "M=np.array([[90,90,60,60,30],[60,90,60,60,30],[90,30,60,90,30]])\n",
    "\n",
    "print(M)\n",
    "print(M.shape)"
   ]
  },
  {
   "cell_type": "code",
   "execution_count": 163,
   "metadata": {},
   "outputs": [
    {
     "name": "stdout",
     "output_type": "stream",
     "text": [
      "[[504. 360. 180.]\n",
      " [360. 360.   0.]\n",
      " [180.   0. 720.]]\n"
     ]
    }
   ],
   "source": [
    "m_cov=np.cov(M,ddof=0)\n",
    "print(m_cov)"
   ]
  },
  {
   "cell_type": "code",
   "execution_count": null,
   "metadata": {},
   "outputs": [],
   "source": []
  },
  {
   "cell_type": "code",
   "execution_count": 118,
   "metadata": {},
   "outputs": [],
   "source": [
    "import matplotlib.pyplot as plt\n",
    "import seaborn as sns"
   ]
  },
  {
   "cell_type": "code",
   "execution_count": 230,
   "metadata": {},
   "outputs": [
    {
     "name": "stderr",
     "output_type": "stream",
     "text": [
      "/Users/betulakgoloksuz/Documents/miniconda3/envs/cooler-env/lib/python3.6/site-packages/numpy/core/numeric.py:538: ComplexWarning: Casting complex values to real discards the imaginary part\n",
      "  return array(a, dtype, copy=False, order=order)\n",
      "/Users/betulakgoloksuz/Documents/miniconda3/envs/cooler-env/lib/python3.6/site-packages/numpy/lib/histograms.py:839: ComplexWarning: Casting complex values to real discards the imaginary part\n",
      "  indices = f_indices.astype(np.intp)\n",
      "/Users/betulakgoloksuz/Documents/miniconda3/envs/cooler-env/lib/python3.6/site-packages/numpy/lib/histograms.py:892: ComplexWarning: Casting complex values to real discards the imaginary part\n",
      "  db = np.array(np.diff(bin_edges), float)\n",
      "/Users/betulakgoloksuz/Documents/miniconda3/envs/cooler-env/lib/python3.6/site-packages/matplotlib/transforms.py:827: ComplexWarning: Casting complex values to real discards the imaginary part\n",
      "  points = np.array(args, dtype=float).reshape(2, 2)\n",
      "/Users/betulakgoloksuz/Documents/miniconda3/envs/cooler-env/lib/python3.6/site-packages/matplotlib/transforms.py:2010: ComplexWarning: Casting complex values to real discards the imaginary part\n",
      "  x, y = float(x), float(y)\n",
      "/Users/betulakgoloksuz/Documents/miniconda3/envs/cooler-env/lib/python3.6/site-packages/seaborn/distributions.py:653: ComplexWarning: Casting complex values to real discards the imaginary part\n",
      "  data = data.astype(np.float64)\n"
     ]
    },
    {
     "data": {
      "image/png": "[encoded data removed]",
      "text/plain": [
       "<Figure size 432x288 with 1 Axes>"
      ]
     },
     "metadata": {
      "needs_background": "light"
     },
     "output_type": "display_data"
    }
   ],
   "source": [
    "#plt.plot(evecs1,evecs2)\n",
    "#plt.show()\n",
    "#ax = plt.subplot(1,2)\n",
    "#ax.hist(evecs1,density=True)\n",
    "#ax.hist(evecs2,density=True)\n",
    "#plt.show()\n",
    "\n",
    "sns.distplot(evecs1[:,99], hist=True, kde=True, \n",
    "             bins=int(180/5), \n",
    "             hist_kws={'edgecolor':'black'},\n",
    "             kde_kws={'linewidth': 4})\n",
    "plt.show()"
   ]
  },
  {
   "cell_type": "code",
   "execution_count": 232,
   "metadata": {
    "scrolled": true
   },
   "outputs": [
    {
     "data": {
      "image/png": "[encoded data removed]",
      "text/plain": [
       "<Figure size 432x288 with 1 Axes>"
      ]
     },
     "metadata": {
      "needs_background": "light"
     },
     "output_type": "display_data"
    }
   ],
   "source": [
    "sns.distplot(evecs2[:,99],hist=True, kde=True, \n",
    "             bins=int(180/5), \n",
    "             hist_kws={'edgecolor':'black'},\n",
    "             kde_kws={'linewidth': 4})\n",
    "plt.show()"
   ]
  },
  {
   "cell_type": "code",
   "execution_count": null,
   "metadata": {},
   "outputs": [],
   "source": [
    "# to create a symmetric matrix\n",
    "\n",
    "M_test_vector=np.random.random((m,1))\n",
    "M_symmetric=np.matmul(M_test_vector,M_test_vector.T)\n",
    "plt.imshow(M_symmetric)\n",
    "print(is_symmetric(M_symmetric))\n",
    "evals,evecs=np.linalg.eig(M_symmetric)\n",
    "\n",
    "print(evals)\n",
    "#print(evecs)\n",
    "#plt.bar(range(m),evals)"
   ]
  },
  {
   "cell_type": "code",
   "execution_count": 65,
   "metadata": {},
   "outputs": [
    {
     "name": "stdout",
     "output_type": "stream",
     "text": [
      "[-1.44339811e+01+0.00000000e+00j -1.08853898e-16+0.00000000e+00j\n",
      "  4.43398113e+00+0.00000000e+00j  4.29619789e-32+0.00000000e+00j\n",
      " -3.33066907e-16+5.55111512e-17j -3.33066907e-16-5.55111512e-17j\n",
      " -3.08148791e-33+0.00000000e+00j -3.42113883e-49+0.00000000e+00j\n",
      "  0.00000000e+00+0.00000000e+00j  0.00000000e+00+0.00000000e+00j]\n"
     ]
    },
    {
     "data": {
      "image/png": "[encoded data removed]",
      "text/plain": [
       "<Figure size 432x288 with 1 Axes>"
      ]
     },
     "metadata": {
      "needs_background": "light"
     },
     "output_type": "display_data"
    }
   ],
   "source": [
    "\n",
    "M_test=np.zeros((m,m),dtype=np.float)\n",
    "M_test[:5,5:]+=2\n",
    "M_test[5:,:5]+=2\n",
    "M_test-=1\n",
    "M_test[5:9,3:5]+=8\n",
    "evals,evecs=np.linalg.eig(M_test)\n",
    "\n",
    "plt.bar(range(m),evals)\n",
    "#print(M_test)\n",
    "print(evals)\n",
    "i=1\n",
    "#plt.imshow(np.outer(evecs[:,i],evecs[:,i]))\n",
    "#aaa = [evals[i]*np.outer(evecs[:,i],evecs[:,i]) for i in range(m)]\n",
    "#plt.imshow(sum(aaa))\n",
    "#plt.imshow(0*np.outer(evecs[:,0],evecs[:,0])-np.outer(evecs[:,1],evecs[:,1]))\n",
    "#print(aaa)"
   ]
  },
  {
   "cell_type": "code",
   "execution_count": 66,
   "metadata": {},
   "outputs": [
    {
     "data": {
      "text/plain": [
       "<matplotlib.image.AxesImage at 0x11300c160>"
      ]
     },
     "execution_count": 66,
     "metadata": {},
     "output_type": "execute_result"
    },
    {
     "data": {
      "image/png": "[encoded data removed]",
      "text/plain": [
       "<Figure size 432x288 with 1 Axes>"
      ]
     },
     "metadata": {
      "needs_background": "light"
     },
     "output_type": "display_data"
    }
   ],
   "source": [
    "mask = np.asarray([1,1,1,1,1,1,1,0,0,1],dtype=np.bool)\n",
    "M_test[mask,:][:,mask].shape\n",
    "plt.imshow(M_test[mask,:][:,mask])"
   ]
  },
  {
   "cell_type": "code",
   "execution_count": 67,
   "metadata": {},
   "outputs": [
    {
     "data": {
      "text/plain": [
       "<BarContainer object of 10 artists>"
      ]
     },
     "execution_count": 67,
     "metadata": {},
     "output_type": "execute_result"
    },
    {
     "data": {
      "image/png": "[encoded data removed]",
      "text/plain": [
       "<Figure size 432x288 with 1 Axes>"
      ]
     },
     "metadata": {
      "needs_background": "light"
     },
     "output_type": "display_data"
    }
   ],
   "source": [
    "# plt.bar(range(m),np.abs(evals))\n",
    "plt.bar(range(m),evals)"
   ]
  },
  {
   "cell_type": "code",
   "execution_count": 68,
   "metadata": {},
   "outputs": [
    {
     "data": {
      "text/plain": [
       "array([[ 2.05053221e-01+0.00000000e+00j,  8.94427191e-01+0.00000000e+00j,\n",
       "        -1.73508142e-01+0.00000000e+00j, -8.59513842e-01+0.00000000e+00j,\n",
       "        -3.76789606e-01-3.98797434e-02j, -3.76789606e-01+3.98797434e-02j,\n",
       "         4.67571691e-17+0.00000000e+00j,  3.34552896e-16+0.00000000e+00j,\n",
       "         4.20729659e-16+0.00000000e+00j,  2.10141900e-16+0.00000000e+00j],\n",
       "       [ 2.05053221e-01+0.00000000e+00j, -3.41171077e-17+0.00000000e+00j,\n",
       "        -1.73508142e-01+0.00000000e+00j,  2.48690175e-02+0.00000000e+00j,\n",
       "        -2.83517067e-01+1.40125779e-01j, -2.83517067e-01-1.40125779e-01j,\n",
       "         6.16749353e-17+0.00000000e+00j,  4.63120929e-17+0.00000000e+00j,\n",
       "         3.69337977e-17+0.00000000e+00j,  5.20459340e-17+0.00000000e+00j],\n",
       "       [ 2.05053221e-01+0.00000000e+00j,  2.04702646e-17+0.00000000e+00j,\n",
       "        -1.73508142e-01+0.00000000e+00j, -6.62180252e-02+0.00000000e+00j,\n",
       "        -5.98258454e-01+0.00000000e+00j, -5.98258454e-01-0.00000000e+00j,\n",
       "         3.33014990e-17+0.00000000e+00j,  4.02342370e-17+0.00000000e+00j,\n",
       "         4.11317410e-17+0.00000000e+00j,  2.49669015e-17+0.00000000e+00j],\n",
       "       [ 2.05053221e-01+0.00000000e+00j, -1.36468431e-17+0.00000000e+00j,\n",
       "        -1.73508142e-01+0.00000000e+00j,  7.63589305e-02+0.00000000e+00j,\n",
       "         9.15776890e-17-5.40805003e-18j,  9.15776890e-17+5.40805003e-18j,\n",
       "         3.24219853e-19+0.00000000e+00j, -2.11981075e-17+0.00000000e+00j,\n",
       "        -2.59420983e-17+0.00000000e+00j, -1.65010845e-17+0.00000000e+00j],\n",
       "       [ 2.05053221e-01+0.00000000e+00j, -1.36468431e-17+0.00000000e+00j,\n",
       "        -1.73508142e-01+0.00000000e+00j, -7.63589305e-02+0.00000000e+00j,\n",
       "         1.55354059e-17-1.35193026e-17j,  1.55354059e-17+1.35193026e-17j,\n",
       "         2.72594930e-17+0.00000000e+00j,  4.46036639e-17+0.00000000e+00j,\n",
       "         4.59024239e-17+0.00000000e+00j,  3.99066410e-17+0.00000000e+00j],\n",
       "       [-4.32353750e-01+0.00000000e+00j,  2.23606798e-01+0.00000000e+00j,\n",
       "        -4.52595169e-01+0.00000000e+00j, -2.44305445e-01+0.00000000e+00j,\n",
       "        -3.14641281e-01+2.50615088e-02j, -3.14641281e-01-2.50615088e-02j,\n",
       "        -2.88675135e-01+0.00000000e+00j,  1.48029737e-16+0.00000000e+00j,\n",
       "         1.82664500e-16+0.00000000e+00j,  1.18727473e-16+0.00000000e+00j],\n",
       "       [-4.32353750e-01+0.00000000e+00j,  2.23606798e-01+0.00000000e+00j,\n",
       "        -4.52595169e-01+0.00000000e+00j, -2.44305445e-01+0.00000000e+00j,\n",
       "        -3.14641281e-01+2.50615088e-02j, -3.14641281e-01-2.50615088e-02j,\n",
       "        -2.88675135e-01+0.00000000e+00j, -4.08248290e-01+0.00000000e+00j,\n",
       "        -7.17429785e-01+0.00000000e+00j, -4.08248290e-01+0.00000000e+00j],\n",
       "       [-4.32353750e-01+0.00000000e+00j,  2.23606798e-01+0.00000000e+00j,\n",
       "        -4.52595169e-01+0.00000000e+00j, -2.44305445e-01+0.00000000e+00j,\n",
       "        -3.14641281e-01+2.50615088e-02j, -3.14641281e-01-2.50615088e-02j,\n",
       "        -2.88675135e-01+0.00000000e+00j, -4.08248290e-01+0.00000000e+00j,\n",
       "         2.11191610e-02+0.00000000e+00j, -4.08248290e-01+0.00000000e+00j],\n",
       "       [-4.32353750e-01+0.00000000e+00j,  2.23606798e-01+0.00000000e+00j,\n",
       "        -4.52595169e-01+0.00000000e+00j, -2.44305445e-01+0.00000000e+00j,\n",
       "        -3.14641281e-01+2.50615088e-02j, -3.14641281e-01-2.50615088e-02j,\n",
       "         8.66025404e-01+0.00000000e+00j,  8.16496581e-01+0.00000000e+00j,\n",
       "         6.96310624e-01+0.00000000e+00j,  8.16496581e-01+0.00000000e+00j],\n",
       "       [-2.05053221e-01+0.00000000e+00j,  1.36468431e-17+0.00000000e+00j,\n",
       "         1.73508142e-01+0.00000000e+00j,  7.63589305e-02+0.00000000e+00j,\n",
       "        -8.16846723e-17+2.25416668e-17j, -8.16846723e-17-2.25416668e-17j,\n",
       "        -2.72594930e-17+0.00000000e+00j, -4.46036639e-17+0.00000000e+00j,\n",
       "        -4.59024239e-17+0.00000000e+00j, -2.69982248e-17+0.00000000e+00j]])"
      ]
     },
     "execution_count": 68,
     "metadata": {},
     "output_type": "execute_result"
    }
   ],
   "source": [
    "evecs"
   ]
  },
  {
   "cell_type": "code",
   "execution_count": 69,
   "metadata": {},
   "outputs": [
    {
     "ename": "TypeError",
     "evalue": "Image data cannot be converted to float",
     "output_type": "error",
     "traceback": [
      "\u001b[0;31m---------------------------------------------------------------------------\u001b[0m",
      "\u001b[0;31mTypeError\u001b[0m                                 Traceback (most recent call last)",
      "\u001b[0;32m<ipython-input-69-9e66b326b602>\u001b[0m in \u001b[0;36m<module>\u001b[0;34m\u001b[0m\n\u001b[0;32m----> 1\u001b[0;31m \u001b[0mplt\u001b[0m\u001b[0;34m.\u001b[0m\u001b[0mimshow\u001b[0m\u001b[0;34m(\u001b[0m\u001b[0mevecs\u001b[0m\u001b[0;34m.\u001b[0m\u001b[0mT\u001b[0m\u001b[0;34m)\u001b[0m\u001b[0;34m\u001b[0m\u001b[0m\n\u001b[0m",
      "\u001b[0;32m~/Documents/miniconda3/envs/cooler-env/lib/python3.6/site-packages/matplotlib/pyplot.py\u001b[0m in \u001b[0;36mimshow\u001b[0;34m(X, cmap, norm, aspect, interpolation, alpha, vmin, vmax, origin, extent, shape, filternorm, filterrad, imlim, resample, url, data, **kwargs)\u001b[0m\n\u001b[1;32m   2699\u001b[0m         \u001b[0mfilternorm\u001b[0m\u001b[0;34m=\u001b[0m\u001b[0mfilternorm\u001b[0m\u001b[0;34m,\u001b[0m \u001b[0mfilterrad\u001b[0m\u001b[0;34m=\u001b[0m\u001b[0mfilterrad\u001b[0m\u001b[0;34m,\u001b[0m \u001b[0mimlim\u001b[0m\u001b[0;34m=\u001b[0m\u001b[0mimlim\u001b[0m\u001b[0;34m,\u001b[0m\u001b[0;34m\u001b[0m\u001b[0m\n\u001b[1;32m   2700\u001b[0m         resample=resample, url=url, **({\"data\": data} if data is not\n\u001b[0;32m-> 2701\u001b[0;31m         None else {}), **kwargs)\n\u001b[0m\u001b[1;32m   2702\u001b[0m     \u001b[0msci\u001b[0m\u001b[0;34m(\u001b[0m\u001b[0m__ret\u001b[0m\u001b[0;34m)\u001b[0m\u001b[0;34m\u001b[0m\u001b[0m\n\u001b[1;32m   2703\u001b[0m     \u001b[0;32mreturn\u001b[0m \u001b[0m__ret\u001b[0m\u001b[0;34m\u001b[0m\u001b[0m\n",
      "\u001b[0;32m~/Documents/miniconda3/envs/cooler-env/lib/python3.6/site-packages/matplotlib/__init__.py\u001b[0m in \u001b[0;36minner\u001b[0;34m(ax, data, *args, **kwargs)\u001b[0m\n\u001b[1;32m   1808\u001b[0m                         \u001b[0;34m\"the Matplotlib list!)\"\u001b[0m \u001b[0;34m%\u001b[0m \u001b[0;34m(\u001b[0m\u001b[0mlabel_namer\u001b[0m\u001b[0;34m,\u001b[0m \u001b[0mfunc\u001b[0m\u001b[0;34m.\u001b[0m\u001b[0m__name__\u001b[0m\u001b[0;34m)\u001b[0m\u001b[0;34m,\u001b[0m\u001b[0;34m\u001b[0m\u001b[0m\n\u001b[1;32m   1809\u001b[0m                         RuntimeWarning, stacklevel=2)\n\u001b[0;32m-> 1810\u001b[0;31m             \u001b[0;32mreturn\u001b[0m \u001b[0mfunc\u001b[0m\u001b[0;34m(\u001b[0m\u001b[0max\u001b[0m\u001b[0;34m,\u001b[0m \u001b[0;34m*\u001b[0m\u001b[0margs\u001b[0m\u001b[0;34m,\u001b[0m \u001b[0;34m**\u001b[0m\u001b[0mkwargs\u001b[0m\u001b[0;34m)\u001b[0m\u001b[0;34m\u001b[0m\u001b[0m\n\u001b[0m\u001b[1;32m   1811\u001b[0m \u001b[0;34m\u001b[0m\u001b[0m\n\u001b[1;32m   1812\u001b[0m         inner.__doc__ = _add_data_doc(inner.__doc__,\n",
      "\u001b[0;32m~/Documents/miniconda3/envs/cooler-env/lib/python3.6/site-packages/matplotlib/axes/_axes.py\u001b[0m in \u001b[0;36mimshow\u001b[0;34m(self, X, cmap, norm, aspect, interpolation, alpha, vmin, vmax, origin, extent, shape, filternorm, filterrad, imlim, resample, url, **kwargs)\u001b[0m\n\u001b[1;32m   5492\u001b[0m                               resample=resample, **kwargs)\n\u001b[1;32m   5493\u001b[0m \u001b[0;34m\u001b[0m\u001b[0m\n\u001b[0;32m-> 5494\u001b[0;31m         \u001b[0mim\u001b[0m\u001b[0;34m.\u001b[0m\u001b[0mset_data\u001b[0m\u001b[0;34m(\u001b[0m\u001b[0mX\u001b[0m\u001b[0;34m)\u001b[0m\u001b[0;34m\u001b[0m\u001b[0m\n\u001b[0m\u001b[1;32m   5495\u001b[0m         \u001b[0mim\u001b[0m\u001b[0;34m.\u001b[0m\u001b[0mset_alpha\u001b[0m\u001b[0;34m(\u001b[0m\u001b[0malpha\u001b[0m\u001b[0;34m)\u001b[0m\u001b[0;34m\u001b[0m\u001b[0m\n\u001b[1;32m   5496\u001b[0m         \u001b[0;32mif\u001b[0m \u001b[0mim\u001b[0m\u001b[0;34m.\u001b[0m\u001b[0mget_clip_path\u001b[0m\u001b[0;34m(\u001b[0m\u001b[0;34m)\u001b[0m \u001b[0;32mis\u001b[0m \u001b[0;32mNone\u001b[0m\u001b[0;34m:\u001b[0m\u001b[0;34m\u001b[0m\u001b[0m\n",
      "\u001b[0;32m~/Documents/miniconda3/envs/cooler-env/lib/python3.6/site-packages/matplotlib/image.py\u001b[0m in \u001b[0;36mset_data\u001b[0;34m(self, A)\u001b[0m\n\u001b[1;32m    640\u001b[0m         if (self._A.dtype != np.uint8 and\n\u001b[1;32m    641\u001b[0m                 not np.can_cast(self._A.dtype, float, \"same_kind\")):\n\u001b[0;32m--> 642\u001b[0;31m             \u001b[0;32mraise\u001b[0m \u001b[0mTypeError\u001b[0m\u001b[0;34m(\u001b[0m\u001b[0;34m\"Image data cannot be converted to float\"\u001b[0m\u001b[0;34m)\u001b[0m\u001b[0;34m\u001b[0m\u001b[0m\n\u001b[0m\u001b[1;32m    643\u001b[0m \u001b[0;34m\u001b[0m\u001b[0m\n\u001b[1;32m    644\u001b[0m         if not (self._A.ndim == 2\n",
      "\u001b[0;31mTypeError\u001b[0m: Image data cannot be converted to float"
     ]
    },
    {
     "data": {
      "image/png": "[encoded data removed]",
      "text/plain": [
       "<Figure size 432x288 with 1 Axes>"
      ]
     },
     "metadata": {
      "needs_background": "light"
     },
     "output_type": "display_data"
    }
   ],
   "source": [
    "plt.imshow(evecs.T)"
   ]
  },
  {
   "cell_type": "code",
   "execution_count": 70,
   "metadata": {},
   "outputs": [
    {
     "ename": "TypeError",
     "evalue": "Image data cannot be converted to float",
     "output_type": "error",
     "traceback": [
      "\u001b[0;31m---------------------------------------------------------------------------\u001b[0m",
      "\u001b[0;31mTypeError\u001b[0m                                 Traceback (most recent call last)",
      "\u001b[0;32m<ipython-input-70-a9194b6f88c4>\u001b[0m in \u001b[0;36m<module>\u001b[0;34m\u001b[0m\n\u001b[1;32m      1\u001b[0m \u001b[0mi\u001b[0m\u001b[0;34m=\u001b[0m\u001b[0;36m1\u001b[0m\u001b[0;34m\u001b[0m\u001b[0m\n\u001b[0;32m----> 2\u001b[0;31m \u001b[0mplt\u001b[0m\u001b[0;34m.\u001b[0m\u001b[0mimshow\u001b[0m\u001b[0;34m(\u001b[0m\u001b[0mnp\u001b[0m\u001b[0;34m.\u001b[0m\u001b[0mouter\u001b[0m\u001b[0;34m(\u001b[0m\u001b[0mevecs\u001b[0m\u001b[0;34m[\u001b[0m\u001b[0;34m:\u001b[0m\u001b[0;34m,\u001b[0m\u001b[0mi\u001b[0m\u001b[0;34m]\u001b[0m\u001b[0;34m,\u001b[0m\u001b[0mevecs\u001b[0m\u001b[0;34m[\u001b[0m\u001b[0;34m:\u001b[0m\u001b[0;34m,\u001b[0m\u001b[0mi\u001b[0m\u001b[0;34m]\u001b[0m\u001b[0;34m)\u001b[0m\u001b[0;34m)\u001b[0m\u001b[0;34m\u001b[0m\u001b[0m\n\u001b[0m",
      "\u001b[0;32m~/Documents/miniconda3/envs/cooler-env/lib/python3.6/site-packages/matplotlib/pyplot.py\u001b[0m in \u001b[0;36mimshow\u001b[0;34m(X, cmap, norm, aspect, interpolation, alpha, vmin, vmax, origin, extent, shape, filternorm, filterrad, imlim, resample, url, data, **kwargs)\u001b[0m\n\u001b[1;32m   2699\u001b[0m         \u001b[0mfilternorm\u001b[0m\u001b[0;34m=\u001b[0m\u001b[0mfilternorm\u001b[0m\u001b[0;34m,\u001b[0m \u001b[0mfilterrad\u001b[0m\u001b[0;34m=\u001b[0m\u001b[0mfilterrad\u001b[0m\u001b[0;34m,\u001b[0m \u001b[0mimlim\u001b[0m\u001b[0;34m=\u001b[0m\u001b[0mimlim\u001b[0m\u001b[0;34m,\u001b[0m\u001b[0;34m\u001b[0m\u001b[0m\n\u001b[1;32m   2700\u001b[0m         resample=resample, url=url, **({\"data\": data} if data is not\n\u001b[0;32m-> 2701\u001b[0;31m         None else {}), **kwargs)\n\u001b[0m\u001b[1;32m   2702\u001b[0m     \u001b[0msci\u001b[0m\u001b[0;34m(\u001b[0m\u001b[0m__ret\u001b[0m\u001b[0;34m)\u001b[0m\u001b[0;34m\u001b[0m\u001b[0m\n\u001b[1;32m   2703\u001b[0m     \u001b[0;32mreturn\u001b[0m \u001b[0m__ret\u001b[0m\u001b[0;34m\u001b[0m\u001b[0m\n",
      "\u001b[0;32m~/Documents/miniconda3/envs/cooler-env/lib/python3.6/site-packages/matplotlib/__init__.py\u001b[0m in \u001b[0;36minner\u001b[0;34m(ax, data, *args, **kwargs)\u001b[0m\n\u001b[1;32m   1808\u001b[0m                         \u001b[0;34m\"the Matplotlib list!)\"\u001b[0m \u001b[0;34m%\u001b[0m \u001b[0;34m(\u001b[0m\u001b[0mlabel_namer\u001b[0m\u001b[0;34m,\u001b[0m \u001b[0mfunc\u001b[0m\u001b[0;34m.\u001b[0m\u001b[0m__name__\u001b[0m\u001b[0;34m)\u001b[0m\u001b[0;34m,\u001b[0m\u001b[0;34m\u001b[0m\u001b[0m\n\u001b[1;32m   1809\u001b[0m                         RuntimeWarning, stacklevel=2)\n\u001b[0;32m-> 1810\u001b[0;31m             \u001b[0;32mreturn\u001b[0m \u001b[0mfunc\u001b[0m\u001b[0;34m(\u001b[0m\u001b[0max\u001b[0m\u001b[0;34m,\u001b[0m \u001b[0;34m*\u001b[0m\u001b[0margs\u001b[0m\u001b[0;34m,\u001b[0m \u001b[0;34m**\u001b[0m\u001b[0mkwargs\u001b[0m\u001b[0;34m)\u001b[0m\u001b[0;34m\u001b[0m\u001b[0m\n\u001b[0m\u001b[1;32m   1811\u001b[0m \u001b[0;34m\u001b[0m\u001b[0m\n\u001b[1;32m   1812\u001b[0m         inner.__doc__ = _add_data_doc(inner.__doc__,\n",
      "\u001b[0;32m~/Documents/miniconda3/envs/cooler-env/lib/python3.6/site-packages/matplotlib/axes/_axes.py\u001b[0m in \u001b[0;36mimshow\u001b[0;34m(self, X, cmap, norm, aspect, interpolation, alpha, vmin, vmax, origin, extent, shape, filternorm, filterrad, imlim, resample, url, **kwargs)\u001b[0m\n\u001b[1;32m   5492\u001b[0m                               resample=resample, **kwargs)\n\u001b[1;32m   5493\u001b[0m \u001b[0;34m\u001b[0m\u001b[0m\n\u001b[0;32m-> 5494\u001b[0;31m         \u001b[0mim\u001b[0m\u001b[0;34m.\u001b[0m\u001b[0mset_data\u001b[0m\u001b[0;34m(\u001b[0m\u001b[0mX\u001b[0m\u001b[0;34m)\u001b[0m\u001b[0;34m\u001b[0m\u001b[0m\n\u001b[0m\u001b[1;32m   5495\u001b[0m         \u001b[0mim\u001b[0m\u001b[0;34m.\u001b[0m\u001b[0mset_alpha\u001b[0m\u001b[0;34m(\u001b[0m\u001b[0malpha\u001b[0m\u001b[0;34m)\u001b[0m\u001b[0;34m\u001b[0m\u001b[0m\n\u001b[1;32m   5496\u001b[0m         \u001b[0;32mif\u001b[0m \u001b[0mim\u001b[0m\u001b[0;34m.\u001b[0m\u001b[0mget_clip_path\u001b[0m\u001b[0;34m(\u001b[0m\u001b[0;34m)\u001b[0m \u001b[0;32mis\u001b[0m \u001b[0;32mNone\u001b[0m\u001b[0;34m:\u001b[0m\u001b[0;34m\u001b[0m\u001b[0m\n",
      "\u001b[0;32m~/Documents/miniconda3/envs/cooler-env/lib/python3.6/site-packages/matplotlib/image.py\u001b[0m in \u001b[0;36mset_data\u001b[0;34m(self, A)\u001b[0m\n\u001b[1;32m    640\u001b[0m         if (self._A.dtype != np.uint8 and\n\u001b[1;32m    641\u001b[0m                 not np.can_cast(self._A.dtype, float, \"same_kind\")):\n\u001b[0;32m--> 642\u001b[0;31m             \u001b[0;32mraise\u001b[0m \u001b[0mTypeError\u001b[0m\u001b[0;34m(\u001b[0m\u001b[0;34m\"Image data cannot be converted to float\"\u001b[0m\u001b[0;34m)\u001b[0m\u001b[0;34m\u001b[0m\u001b[0m\n\u001b[0m\u001b[1;32m    643\u001b[0m \u001b[0;34m\u001b[0m\u001b[0m\n\u001b[1;32m    644\u001b[0m         if not (self._A.ndim == 2\n",
      "\u001b[0;31mTypeError\u001b[0m: Image data cannot be converted to float"
     ]
    },
    {
     "data": {
      "image/png": "[encoded data removed]",
      "text/plain": [
       "<Figure size 432x288 with 1 Axes>"
      ]
     },
     "metadata": {
      "needs_background": "light"
     },
     "output_type": "display_data"
    }
   ],
   "source": [
    "i=1\n",
    "plt.imshow(np.outer(evecs[:,i],evecs[:,i]))"
   ]
  },
  {
   "cell_type": "code",
   "execution_count": null,
   "metadata": {},
   "outputs": [],
   "source": [
    "plt.imshow(0*np.outer(evecs[:,0],evecs[:,0])-np.outer(evecs[:,1],evecs[:,1]))"
   ]
  },
  {
   "cell_type": "code",
   "execution_count": null,
   "metadata": {},
   "outputs": [],
   "source": [
    "aaa = [evals[i]*np.outer(evecs[:,i],evecs[:,i]) for i in range(m)]"
   ]
  },
  {
   "cell_type": "code",
   "execution_count": null,
   "metadata": {},
   "outputs": [],
   "source": [
    "plt.imshow(sum(aaa))"
   ]
  },
  {
   "cell_type": "code",
   "execution_count": null,
   "metadata": {},
   "outputs": [],
   "source": []
  },
  {
   "cell_type": "code",
   "execution_count": null,
   "metadata": {},
   "outputs": [],
   "source": []
  },
  {
   "cell_type": "code",
   "execution_count": null,
   "metadata": {},
   "outputs": [],
   "source": []
  }
 ],
 "metadata": {
  "kernelspec": {
   "display_name": "Python 3",
   "language": "python",
   "name": "python3"
  },
  "language_info": {
   "codemirror_mode": {
    "name": "ipython",
    "version": 3
   },
   "file_extension": ".py",
   "mimetype": "text/x-python",
   "name": "python",
   "nbconvert_exporter": "python",
   "pygments_lexer": "ipython3",
   "version": "3.6.6"
  }
 },
 "nbformat": 4,
 "nbformat_minor": 2
}
